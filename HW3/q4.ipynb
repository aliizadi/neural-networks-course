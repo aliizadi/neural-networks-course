{
 "cells": [
  {
   "cell_type": "code",
   "execution_count": 1,
   "metadata": {},
   "outputs": [],
   "source": [
    "import numpy as np \n",
    "import matplotlib.pyplot as plt\n",
    "from copy import deepcopy\n",
    "from collections import defaultdict"
   ]
  },
  {
   "cell_type": "code",
   "execution_count": 2,
   "metadata": {},
   "outputs": [],
   "source": [
    "Cs = np.array([[0, 1, 1],\n",
    "               [1, 0, 0],\n",
    "               [1, 0, 0],\n",
    "               [1, 0, 0],\n",
    "               [0, 1, 1]])\n",
    "\n",
    "Ct = np.array([[-1],\n",
    "               [-1],\n",
    "               [-1]])\n",
    "\n",
    "Es = np.array([[1, 1, 1],\n",
    "               [1, 0, 0],\n",
    "               [1, 1, 0],\n",
    "               [1, 0, 0],\n",
    "               [1, 1, 1]])\n",
    "\n",
    "Et = np.array([[-1],\n",
    "               [-1],\n",
    "               [1]])\n",
    "\n",
    "\n",
    "Rs = np.array([[1, 1, 1],\n",
    "               [1, 0, 1],\n",
    "               [1, 1, 1],\n",
    "               [1, 1, 0],\n",
    "               [1, 0, 1]])\n",
    "\n",
    "Rt = np.array([[-1],\n",
    "               [1],\n",
    "               [-1]])\n",
    "\n",
    "\n",
    "inputs = [Cs, Es, Rs]\n",
    "targets = [Ct, Et, Rt]\n",
    "\n",
    "for i in range(len(inputs)):\n",
    "    inputs[i] = np.where(inputs[i] == 0, -1, inputs[i])\n",
    "    inputs[i] = inputs[i].reshape(inputs[i].shape[0] * inputs[i].shape[1], -1)\n",
    "    targets[i] = np.where(targets[i] == 0, -1, targets[i])\n",
    "    targets[i] = targets[i].reshape(targets[i].shape[0] * targets[i].shape[1], -1)"
   ]
  },
  {
   "cell_type": "markdown",
   "metadata": {},
   "source": [
    "# الف و ب)"
   ]
  },
  {
   "cell_type": "code",
   "execution_count": 3,
   "metadata": {},
   "outputs": [
    {
     "name": "stdout",
     "output_type": "stream",
     "text": [
      "C-input: 1.0\n",
      "C-output: 1.0\n",
      "E-input: 0.8\n",
      "E-output: 0.6666666666666666\n",
      "R-input: 1.0\n",
      "R-output: 1.0\n"
     ]
    }
   ],
   "source": [
    "class BAM:\n",
    "    '''\n",
    "    Bidirectional Associative Memory\n",
    "    '''\n",
    "    def __init__(self, inputs, targets):\n",
    "        self.inputs = inputs\n",
    "        self.targets = targets\n",
    "        self.W = np.sum([s @ t.T for s, t in zip(inputs, targets)], axis=0)\n",
    "\n",
    "\n",
    "    def run(self, x, y, n_iter=10):\n",
    "        x_first = deepcopy(x)\n",
    "        y_first = deepcopy(y)\n",
    "\n",
    "        x_out = deepcopy(x)\n",
    "        y_out = deepcopy(y)\n",
    "\n",
    "        def active(in_i, out_i, threshold=0):\n",
    "            if in_i > threshold:\n",
    "                return 1\n",
    "            elif in_i == threshold:\n",
    "                return out_i\n",
    "            elif in_i < threshold:\n",
    "                return -1\n",
    "\n",
    "        accs_x = []\n",
    "        accs_y = []\n",
    "\n",
    "        for it in range(n_iter):\n",
    "            y_in = x_out.T @ self.W\n",
    "\n",
    "\n",
    "            y_out = np.array([active(y_in.T[i], y_out[i]) for i in range(len(y_in.T))])\n",
    "            y_out = y_out.reshape(y_out.shape[0], -1)\n",
    "\n",
    "            x_in = y_out.T @ self.W.T\n",
    "            x_out = np.array([active(x_in.T[i], x_out[i]) for i in range(len(x_in.T))])\n",
    "            x_out = x_out.reshape(x_out.shape[0], -1)\n",
    "\n",
    "            accs_x.append(np.sum(np.where(x_out == x_first, 1, 0)) / len(x_out))\n",
    "            accs_y.append(np.sum(np.where(y_out == y_first, 1, 0)) / len(y_out))\n",
    "\n",
    "            if accs_x[-1] == 1 and accs_y[-1] == 1:\n",
    "                break\n",
    "\n",
    "        return accs_x[-1], accs_y[-1]\n",
    "\n",
    "bam = BAM(inputs, targets)\n",
    "\n",
    "chars = ['C', \"E\", \"R\"]\n",
    "\n",
    "\n",
    "for i, (s, t) in enumerate(zip(inputs, targets)):\n",
    "    acc_x, acc_y = bam.run(s, t)\n",
    "    print(f\"{chars[i]}-input: {acc_x}\")\n",
    "    print(f\"{chars[i]}-output: {acc_y}\")\n"
   ]
  },
  {
   "cell_type": "markdown",
   "metadata": {},
   "source": [
    " # پ)"
   ]
  },
  {
   "cell_type": "code",
   "execution_count": 5,
   "metadata": {},
   "outputs": [
    {
     "name": "stdout",
     "output_type": "stream",
     "text": [
      "C-output: 0.64\n",
      "--------------------\n",
      "E-output: 0.0\n",
      "--------------------\n",
      "R-output: 0.31\n",
      "--------------------\n"
     ]
    }
   ],
   "source": [
    "def add_noise(inputs, noise=0.4):\n",
    "    noise_inputs = deepcopy(inputs)\n",
    "    for s in noise_inputs:\n",
    "        for i in range(len(s)):\n",
    "            for j in range(len(s[i])):\n",
    "                if np.random.rand() < noise:\n",
    "                    s[i][j] = -s[i][j]\n",
    "    return noise_inputs\n",
    "\n",
    "accs_y = defaultdict(list)\n",
    "\n",
    "for _ in range(100):\n",
    "    noise_inputs = add_noise(inputs)\n",
    "\n",
    "    for i, (s, t) in enumerate(zip(noise_inputs, targets)):\n",
    "        acc_x, acc_y = bam.run(s, t)\n",
    "        accs_y[chars[i]].append(acc_y)\n",
    "\n",
    "for i in range(len(chars)):\n",
    "    print(f\"{chars[i]}-output: {np.sum(np.where(np.array(accs_y[chars[i]]) == 1, 1, 0)) / float(len(accs_y[chars[i]]))}\")\n",
    "    print('-' * 20)\n"
   ]
  },
  {
   "cell_type": "markdown",
   "metadata": {},
   "source": [
    "# ث)"
   ]
  },
  {
   "cell_type": "code",
   "execution_count": 6,
   "metadata": {},
   "outputs": [],
   "source": [
    "Os = np.array([[0, 1, 0],\n",
    "               [1, 0, 1],\n",
    "               [1, 0, 1],\n",
    "               [1, 0, 1],\n",
    "               [0, 1, 0]])\n",
    "\n",
    "Ot = np.array([[-1],\n",
    "               [1],\n",
    "               [1]])\n",
    "\n",
    "Fs = np.array([[1, 1, 1],\n",
    "               [1, 0, 0],\n",
    "               [1, 1, 0],\n",
    "               [1, 0, 0],\n",
    "               [1, 0, 0]])\n",
    "\n",
    "Ft = np.array([[1],\n",
    "               [-1],\n",
    "               [-1]])\n",
    "\n",
    "\n",
    "Ps = np.array([[1, 1, 1],\n",
    "               [1, 0, 1],\n",
    "               [1, 1, 1],\n",
    "               [1, 0, 0],\n",
    "               [1, 0, 0]])\n",
    "\n",
    "Pt = np.array([[1],\n",
    "               [-1],\n",
    "               [1]])\n",
    "\n",
    "\n",
    "\n",
    "inputs.extend([Os, Fs, Ps])\n",
    "targets.extend([Ot, Ft, Pt])\n",
    "\n",
    "for i in range(3, len(inputs)):\n",
    "    inputs[i] = np.where(inputs[i] == 0, -1, inputs[i])\n",
    "    inputs[i] = inputs[i].reshape(inputs[i].shape[0] * inputs[i].shape[1], -1)\n",
    "    targets[i] = np.where(targets[i] == 0, -1, targets[i])\n",
    "    targets[i] = targets[i].reshape(targets[i].shape[0] * targets[i].shape[1], -1)"
   ]
  },
  {
   "cell_type": "code",
   "execution_count": 7,
   "metadata": {},
   "outputs": [
    {
     "name": "stdout",
     "output_type": "stream",
     "text": [
      "C-input: 1.0\n",
      "C-output: 1.0\n",
      "E-input: 1.0\n",
      "E-output: 0.6666666666666666\n",
      "R-input: 0.7333333333333333\n",
      "R-output: 0.6666666666666666\n",
      "O-input: 0.8666666666666667\n",
      "O-output: 1.0\n",
      "F-input: 1.0\n",
      "F-output: 1.0\n",
      "P-input: 0.8666666666666667\n",
      "P-output: 0.6666666666666666\n"
     ]
    }
   ],
   "source": [
    "bam = BAM(inputs, targets)\n",
    "\n",
    "chars = [\"C\", \"E\", \"R\", \"O\", \"F\", \"P\"]\n",
    "\n",
    "for i, (s, t) in enumerate(zip(inputs, targets)):\n",
    "    acc_x, acc_y = bam.run(s, t)\n",
    "    print(f\"{chars[i]}-input: {acc_x}\")\n",
    "    print(f\"{chars[i]}-output: {acc_y}\")"
   ]
  }
 ],
 "metadata": {
  "interpreter": {
   "hash": "6089f03deae56583c44f7b551b954566ae74e81fd90f47382c1019c1f789891b"
  },
  "kernelspec": {
   "display_name": "Python 3.6.9 64-bit ('env': venv)",
   "language": "python",
   "name": "python3"
  },
  "language_info": {
   "codemirror_mode": {
    "name": "ipython",
    "version": 3
   },
   "file_extension": ".py",
   "mimetype": "text/x-python",
   "name": "python",
   "nbconvert_exporter": "python",
   "pygments_lexer": "ipython3",
   "version": "3.6.9"
  },
  "orig_nbformat": 4
 },
 "nbformat": 4,
 "nbformat_minor": 2
}
