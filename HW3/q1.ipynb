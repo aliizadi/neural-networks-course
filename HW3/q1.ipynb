{
 "cells": [
  {
   "cell_type": "code",
   "execution_count": 36,
   "metadata": {},
   "outputs": [],
   "source": [
    "import numpy as np\n",
    "import matplotlib.pyplot as plt\n",
    "from copy import deepcopy\n",
    "from collections import defaultdict"
   ]
  },
  {
   "cell_type": "markdown",
   "metadata": {},
   "source": [
    "# الف)"
   ]
  },
  {
   "cell_type": "code",
   "execution_count": 2,
   "metadata": {},
   "outputs": [],
   "source": [
    "As = np.array([[0, 0, 0, 1, 0, 0, 0],\n",
    "               [0, 0, 0, 1, 0, 0, 0],\n",
    "               [0, 0, 0, 1, 0, 0, 0],\n",
    "               [0, 0, 1, 0, 1, 0, 0],\n",
    "               [0, 0, 1, 0, 1, 0, 0],\n",
    "               [0, 1, 1, 1, 1, 1, 0],\n",
    "               [0, 1, 0, 0, 0, 1, 0],\n",
    "               [0, 1, 0, 0, 0, 1, 0],\n",
    "               [1, 1, 1, 0, 1, 1, 1]])\n",
    "\n",
    "At = np.array([[0, 1, 0],\n",
    "               [1, 0, 1],\n",
    "               [1, 1, 1],\n",
    "               [1, 0, 1],\n",
    "               [1, 0, 1]]) \n",
    "\n",
    "Bs = np.array([[1, 1, 1, 1, 1, 1, 1],\n",
    "               [1, 0, 0, 0, 0, 0, 1],\n",
    "               [1, 0, 0, 0, 0, 1, 0],\n",
    "               [1, 0, 0, 0, 1, 0, 0],\n",
    "               [1, 1, 1, 1, 0, 0, 0],\n",
    "               [1, 0, 0, 0, 1, 0, 0],\n",
    "               [1, 0, 0, 0, 0, 1, 0],\n",
    "               [1, 0, 0, 0, 0, 0, 1],\n",
    "               [1, 1, 1, 1, 1, 1, 1]])\n",
    "\n",
    "Bt = np.array([[1, 1, 0],\n",
    "               [1, 0, 1],\n",
    "               [1, 1, 0],\n",
    "               [1, 0, 1],\n",
    "               [1, 1, 0]]) \n",
    "\n",
    "Cs = np.array([[0, 0, 1, 1, 1, 1, 0],\n",
    "               [0, 1, 0, 0, 0, 0, 1],\n",
    "               [1, 0, 0, 0, 0, 0, 0],\n",
    "               [1, 0, 0, 0, 0, 0, 0],\n",
    "               [1, 0, 0, 0, 0, 0, 0],\n",
    "               [1, 0, 0, 0, 0, 0, 0],\n",
    "               [1, 0, 0, 0, 0, 0, 0],\n",
    "               [0, 1, 0, 0, 0, 0, 1],\n",
    "               [0, 0, 1, 1, 1, 1, 0]])\n",
    "\n",
    "Ct = np.array([[0, 1, 1],\n",
    "               [1, 0, 0],\n",
    "               [1, 0, 0],\n",
    "               [1, 0, 0],\n",
    "               [0, 1, 1]])           \n",
    "\n",
    "inputs = [As, Bs, Cs]\n",
    "targets = [At, Bt, Ct]\n",
    "\n",
    "for i in range(len(inputs)):\n",
    "    inputs[i] = np.where(inputs[i] == 0, -1, inputs[i])\n",
    "    inputs[i] = inputs[i].reshape(inputs[i].shape[0] * inputs[i].shape[1], -1)\n",
    "    targets[i] = np.where(targets[i] == 0, -1, targets[i])\n",
    "    targets[i] = targets[i].reshape(targets[i].shape[0] * targets[i].shape[1], -1)\n"
   ]
  },
  {
   "cell_type": "code",
   "execution_count": 21,
   "metadata": {},
   "outputs": [],
   "source": [
    "class Hebbian:\n",
    "    def __init__(self, noise=0, missing=0):\n",
    "        self.W = None\n",
    "        self.noise = noise\n",
    "        self.missing = missing\n",
    "\n",
    "    def fit(self, inputs, targets):\n",
    "        self.W = np.sum([s @ t.T for s, t in zip(inputs, targets)], axis=0)\n",
    "    \n",
    "\n",
    "    def transform(self, inputs):\n",
    "        S = deepcopy(inputs)\n",
    "        if self.noise:\n",
    "            S = self.add_noise(S)\n",
    "\n",
    "        if self.missing:\n",
    "            S = self.add_missing(S)\n",
    "\n",
    "        outputs = []\n",
    "        for s in S:\n",
    "            outputs.append(np.sign(s.T @ self.W))\n",
    "        return outputs\n",
    "\n",
    "    def add_noise(self, inputs):\n",
    "        for s in inputs:\n",
    "            for i in range(len(s)):\n",
    "                for j in range(len(s[i])):\n",
    "                    if np.random.rand() < self.noise:\n",
    "                        s[i][j] = -s[i][j]\n",
    "        return inputs\n",
    "\n",
    "    def add_missing(self, inputs):\n",
    "        for s in inputs:\n",
    "            for i in range(len(s)):\n",
    "                for j in range(len(s[i])):\n",
    "                    if np.random.rand() < self.missing:\n",
    "                        s[i][j] = 0\n",
    "\n",
    "        return inputs\n",
    "\n",
    "    \n",
    "hebbian = Hebbian()\n",
    "hebbian.fit(inputs, targets)\n",
    "outputs = hebbian.transform(inputs)"
   ]
  },
  {
   "cell_type": "code",
   "execution_count": 22,
   "metadata": {},
   "outputs": [
    {
     "data": {
      "image/png": "[encoded data removed]",
      "text/plain": [
       "<Figure size 432x288 with 1 Axes>"
      ]
     },
     "metadata": {
      "needs_background": "light"
     },
     "output_type": "display_data"
    },
    {
     "data": {
      "image/png": "[encoded data removed]",
      "text/plain": [
       "<Figure size 432x288 with 1 Axes>"
      ]
     },
     "metadata": {
      "needs_background": "light"
     },
     "output_type": "display_data"
    },
    {
     "data": {
      "image/png": "[encoded data removed]",
      "text/plain": [
       "<Figure size 432x288 with 1 Axes>"
      ]
     },
     "metadata": {
      "needs_background": "light"
     },
     "output_type": "display_data"
    }
   ],
   "source": [
    "def show_outputs(outputs, shape=(5, 3)):\n",
    "    for i in range(len(outputs)):\n",
    "        outputs[i] = outputs[i].reshape(shape[0], shape[1])\n",
    "        outputs[i] = np.where(outputs[i] == -1, 1, -1)\n",
    "        plt.figure()\n",
    "        plt.imshow(outputs[i], cmap='gray')\n",
    "\n",
    "show_outputs(outputs)"
   ]
  },
  {
   "cell_type": "markdown",
   "metadata": {},
   "source": [
    "# ب)"
   ]
  },
  {
   "cell_type": "code",
   "execution_count": 24,
   "metadata": {},
   "outputs": [
    {
     "name": "stdout",
     "output_type": "stream",
     "text": [
      "[[1 1]]\n",
      "[[-1  1]]\n",
      "[[ 1 -1]]\n"
     ]
    }
   ],
   "source": [
    "At_s = np.array([[1],[1]])\n",
    "Bt_s = np.array([[-1],[1]])\n",
    "Ct_s = np.array([[1],[-1]])\n",
    "\n",
    "smallest_targets = [At_s, Bt_s, Ct_s]\n",
    "\n",
    "hebbian = Hebbian()\n",
    "hebbian.fit(inputs, smallest_targets)\n",
    "outputs = hebbian.transform(inputs)\n",
    "\n",
    "for output in outputs:\n",
    "    print(output)"
   ]
  },
  {
   "cell_type": "markdown",
   "metadata": {},
   "source": [
    "# ج)"
   ]
  },
  {
   "cell_type": "code",
   "execution_count": 25,
   "metadata": {},
   "outputs": [
    {
     "data": {
      "image/png": "[encoded data removed]",
      "text/plain": [
       "<Figure size 432x288 with 1 Axes>"
      ]
     },
     "metadata": {
      "needs_background": "light"
     },
     "output_type": "display_data"
    },
    {
     "data": {
      "image/png": "[encoded data removed]",
      "text/plain": [
       "<Figure size 432x288 with 1 Axes>"
      ]
     },
     "metadata": {
      "needs_background": "light"
     },
     "output_type": "display_data"
    },
    {
     "data": {
      "image/png": "[encoded data removed]",
      "text/plain": [
       "<Figure size 432x288 with 1 Axes>"
      ]
     },
     "metadata": {
      "needs_background": "light"
     },
     "output_type": "display_data"
    }
   ],
   "source": [
    "hebbian = Hebbian(noise=0.1)\n",
    "hebbian.fit(inputs, targets)\n",
    "outputs = hebbian.transform(inputs)\n",
    "show_outputs(outputs)"
   ]
  },
  {
   "cell_type": "code",
   "execution_count": 26,
   "metadata": {},
   "outputs": [
    {
     "name": "stdout",
     "output_type": "stream",
     "text": [
      "[[1 1]]\n",
      "[[-1  1]]\n",
      "[[ 1 -1]]\n"
     ]
    }
   ],
   "source": [
    "hebbian = Hebbian(noise=0.1)\n",
    "hebbian.fit(inputs, smallest_targets)\n",
    "outputs = hebbian.transform(inputs)\n",
    "\n",
    "for output in outputs:\n",
    "    print(output)"
   ]
  },
  {
   "cell_type": "code",
   "execution_count": 29,
   "metadata": {},
   "outputs": [
    {
     "data": {
      "image/png": "[encoded data removed]",
      "text/plain": [
       "<Figure size 432x288 with 1 Axes>"
      ]
     },
     "metadata": {
      "needs_background": "light"
     },
     "output_type": "display_data"
    },
    {
     "data": {
      "image/png": "[encoded data removed]",
      "text/plain": [
       "<Figure size 432x288 with 1 Axes>"
      ]
     },
     "metadata": {
      "needs_background": "light"
     },
     "output_type": "display_data"
    },
    {
     "data": {
      "image/png": "[encoded data removed]",
      "text/plain": [
       "<Figure size 432x288 with 1 Axes>"
      ]
     },
     "metadata": {
      "needs_background": "light"
     },
     "output_type": "display_data"
    }
   ],
   "source": [
    "hebbian = Hebbian(noise=0.4)\n",
    "hebbian.fit(inputs, targets)\n",
    "outputs = hebbian.transform(inputs)\n",
    "show_outputs(outputs)"
   ]
  },
  {
   "cell_type": "code",
   "execution_count": 35,
   "metadata": {},
   "outputs": [
    {
     "name": "stdout",
     "output_type": "stream",
     "text": [
      "[[-1  1]]\n",
      "[[-1  1]]\n",
      "[[ 1 -1]]\n"
     ]
    }
   ],
   "source": [
    "hebbian = Hebbian(noise=0.4)\n",
    "hebbian.fit(inputs, smallest_targets)\n",
    "outputs = hebbian.transform(inputs)\n",
    "\n",
    "for output in outputs:\n",
    "    print(output)"
   ]
  },
  {
   "cell_type": "code",
   "execution_count": 56,
   "metadata": {},
   "outputs": [
    {
     "name": "stdout",
     "output_type": "stream",
     "text": [
      "A-true detected in : 100.0% times\n",
      "--------------------\n",
      "B-true detected in : 99.9% times\n",
      "--------------------\n",
      "C-true detected in : 99.6% times\n",
      "--------------------\n"
     ]
    }
   ],
   "source": [
    "chars = ['A', 'B', 'C']\n",
    "\n",
    "accs = defaultdict(list)\n",
    "for _ in range(1000):\n",
    "    hebbian = Hebbian(noise=0.1)\n",
    "    hebbian.fit(inputs, targets)\n",
    "    outputs = hebbian.transform(inputs)\n",
    "\n",
    "    for char, (output, target) in enumerate(zip(outputs, targets)):\n",
    "        output = output.reshape(output.shape[1], -1)\n",
    "        target = target.reshape(target.shape[0], -1)\n",
    "        acc = sum([1 if output[i] == target[i] else 0 for i in range(len(output))]) / len(output)\n",
    "        accs[chars[char]].append(acc)\n",
    "\n",
    "for i in range(len(chars)):\n",
    "    print(f\"{chars[i]}-true detected in : {(np.sum(np.where(np.array(accs[chars[i]]) == 1, 1, 0)) / float(len(accs[chars[i]])))*100}% times\")\n",
    "    print('-' * 20)\n"
   ]
  },
  {
   "cell_type": "code",
   "execution_count": 62,
   "metadata": {},
   "outputs": [
    {
     "name": "stdout",
     "output_type": "stream",
     "text": [
      "A-true detected in : 52.7% times\n",
      "--------------------\n",
      "B-true detected in : 43.5% times\n",
      "--------------------\n",
      "C-true detected in : 45.9% times\n",
      "--------------------\n"
     ]
    }
   ],
   "source": [
    "chars = ['A', 'B', 'C']\n",
    "\n",
    "accs = defaultdict(list)\n",
    "for _ in range(1000):\n",
    "    hebbian = Hebbian(noise=0.4)\n",
    "    hebbian.fit(inputs, targets)\n",
    "    outputs = hebbian.transform(inputs)\n",
    "\n",
    "    for char, (output, target) in enumerate(zip(outputs, targets)):\n",
    "        output = output.reshape(output.shape[1], -1)\n",
    "        target = target.reshape(target.shape[0], -1)\n",
    "        acc = sum([1 if output[i] == target[i] else 0 for i in range(len(output))]) / len(output)\n",
    "        accs[chars[char]].append(acc)\n",
    "\n",
    "for i in range(len(chars)):\n",
    "    print(f\"{chars[i]}-true detected in : {(np.sum(np.where(np.array(accs[chars[i]]) == 1, 1, 0)) / float(len(accs[chars[i]])))*100}% times\")\n",
    "    print('-' * 20)"
   ]
  },
  {
   "cell_type": "code",
   "execution_count": 63,
   "metadata": {},
   "outputs": [
    {
     "name": "stdout",
     "output_type": "stream",
     "text": [
      "A-true detected in : 100.0% times\n",
      "--------------------\n",
      "B-true detected in : 99.8% times\n",
      "--------------------\n",
      "C-true detected in : 99.9% times\n",
      "--------------------\n"
     ]
    }
   ],
   "source": [
    "chars = ['A', 'B', 'C']\n",
    "\n",
    "accs = defaultdict(list)\n",
    "for _ in range(1000):\n",
    "    hebbian = Hebbian(noise=0.1)\n",
    "    hebbian.fit(inputs, smallest_targets)\n",
    "    outputs = hebbian.transform(inputs)\n",
    "\n",
    "    for char, (output, target) in enumerate(zip(outputs, smallest_targets)):\n",
    "        output = output.reshape(output.shape[1], -1)\n",
    "        target = target.reshape(target.shape[0], -1)\n",
    "        acc = sum([1 if output[i] == target[i] else 0 for i in range(len(output))]) / len(output)\n",
    "        accs[chars[char]].append(acc)\n",
    "\n",
    "for i in range(len(chars)):\n",
    "    print(f\"{chars[i]}-true detected in : {(np.sum(np.where(np.array(accs[chars[i]]) == 1, 1, 0)) / float(len(accs[chars[i]])))*100}% times\")\n",
    "    print('-' * 20)"
   ]
  },
  {
   "cell_type": "code",
   "execution_count": 66,
   "metadata": {},
   "outputs": [
    {
     "name": "stdout",
     "output_type": "stream",
     "text": [
      "A-true detected in : 76.3% times\n",
      "--------------------\n",
      "B-true detected in : 54.1% times\n",
      "--------------------\n",
      "C-true detected in : 54.1% times\n",
      "--------------------\n"
     ]
    }
   ],
   "source": [
    "chars = ['A', 'B', 'C']\n",
    "\n",
    "accs = defaultdict(list)\n",
    "for _ in range(1000):\n",
    "    hebbian = Hebbian(noise=0.4)\n",
    "    hebbian.fit(inputs, smallest_targets)\n",
    "    outputs = hebbian.transform(inputs)\n",
    "\n",
    "    for char, (output, target) in enumerate(zip(outputs, smallest_targets)):\n",
    "        output = output.reshape(output.shape[1], -1)\n",
    "        target = target.reshape(target.shape[0], -1)\n",
    "        acc = sum([1 if output[i] == target[i] else 0 for i in range(len(output))]) / len(output)\n",
    "        accs[chars[char]].append(acc)\n",
    "\n",
    "for i in range(len(chars)):\n",
    "    print(f\"{chars[i]}-true detected in : {(np.sum(np.where(np.array(accs[chars[i]]) == 1, 1, 0)) / float(len(accs[chars[i]])))*100}% times\")\n",
    "    print('-' * 20)"
   ]
  },
  {
   "cell_type": "markdown",
   "metadata": {},
   "source": [
    "# ت)"
   ]
  },
  {
   "cell_type": "code",
   "execution_count": 67,
   "metadata": {},
   "outputs": [
    {
     "data": {
      "image/png": "[encoded data removed]",
      "text/plain": [
       "<Figure size 432x288 with 1 Axes>"
      ]
     },
     "metadata": {
      "needs_background": "light"
     },
     "output_type": "display_data"
    },
    {
     "data": {
      "image/png": "[encoded data removed]",
      "text/plain": [
       "<Figure size 432x288 with 1 Axes>"
      ]
     },
     "metadata": {
      "needs_background": "light"
     },
     "output_type": "display_data"
    },
    {
     "data": {
      "image/png": "[encoded data removed]",
      "text/plain": [
       "<Figure size 432x288 with 1 Axes>"
      ]
     },
     "metadata": {
      "needs_background": "light"
     },
     "output_type": "display_data"
    }
   ],
   "source": [
    "hebbian = Hebbian(missing=0.1)\n",
    "hebbian.fit(inputs, targets)\n",
    "outputs = hebbian.transform(inputs)\n",
    "show_outputs(outputs)"
   ]
  },
  {
   "cell_type": "code",
   "execution_count": 68,
   "metadata": {},
   "outputs": [
    {
     "name": "stdout",
     "output_type": "stream",
     "text": [
      "[[1 1]]\n",
      "[[-1  1]]\n",
      "[[ 1 -1]]\n"
     ]
    }
   ],
   "source": [
    "hebbian = Hebbian(missing=0.1)\n",
    "hebbian.fit(inputs, smallest_targets)\n",
    "outputs = hebbian.transform(inputs)\n",
    "\n",
    "for output in outputs:\n",
    "    print(output)"
   ]
  },
  {
   "cell_type": "code",
   "execution_count": 69,
   "metadata": {},
   "outputs": [
    {
     "data": {
      "image/png": "[encoded data removed]",
      "text/plain": [
       "<Figure size 432x288 with 1 Axes>"
      ]
     },
     "metadata": {
      "needs_background": "light"
     },
     "output_type": "display_data"
    },
    {
     "data": {
      "image/png": "[encoded data removed]",
      "text/plain": [
       "<Figure size 432x288 with 1 Axes>"
      ]
     },
     "metadata": {
      "needs_background": "light"
     },
     "output_type": "display_data"
    },
    {
     "data": {
      "image/png": "[encoded data removed]",
      "text/plain": [
       "<Figure size 432x288 with 1 Axes>"
      ]
     },
     "metadata": {
      "needs_background": "light"
     },
     "output_type": "display_data"
    }
   ],
   "source": [
    "hebbian = Hebbian(missing=0.4)\n",
    "hebbian.fit(inputs, targets)\n",
    "outputs = hebbian.transform(inputs)\n",
    "show_outputs(outputs)"
   ]
  },
  {
   "cell_type": "code",
   "execution_count": 70,
   "metadata": {},
   "outputs": [
    {
     "name": "stdout",
     "output_type": "stream",
     "text": [
      "[[1 1]]\n",
      "[[-1  1]]\n",
      "[[ 1 -1]]\n"
     ]
    }
   ],
   "source": [
    "hebbian = Hebbian(missing=0.4)\n",
    "hebbian.fit(inputs, smallest_targets)\n",
    "outputs = hebbian.transform(inputs)\n",
    "\n",
    "for output in outputs:\n",
    "    print(output)"
   ]
  },
  {
   "cell_type": "code",
   "execution_count": 76,
   "metadata": {},
   "outputs": [
    {
     "name": "stdout",
     "output_type": "stream",
     "text": [
      "A-true detected in : 100.0% times\n",
      "--------------------\n",
      "B-true detected in : 100.0% times\n",
      "--------------------\n",
      "C-true detected in : 100.0% times\n",
      "--------------------\n"
     ]
    }
   ],
   "source": [
    "chars = ['A', 'B', 'C']\n",
    "\n",
    "accs = defaultdict(list)\n",
    "for _ in range(1000):\n",
    "    hebbian = Hebbian(missing=0.1)\n",
    "    hebbian.fit(inputs, targets)\n",
    "    outputs = hebbian.transform(inputs)\n",
    "\n",
    "    for char, (output, target) in enumerate(zip(outputs, targets)):\n",
    "        output = output.reshape(output.shape[1], -1)\n",
    "        target = target.reshape(target.shape[0], -1)\n",
    "        acc = sum([1 if output[i] == target[i] else 0 for i in range(len(output))]) / len(output)\n",
    "        accs[chars[char]].append(acc)\n",
    "\n",
    "for i in range(len(chars)):\n",
    "    print(f\"{chars[i]}-true detected in : {(np.sum(np.where(np.array(accs[chars[i]]) == 1, 1, 0)) / float(len(accs[chars[i]])))*100}% times\")\n",
    "    print('-' * 20)"
   ]
  },
  {
   "cell_type": "code",
   "execution_count": 72,
   "metadata": {},
   "outputs": [
    {
     "name": "stdout",
     "output_type": "stream",
     "text": [
      "A-true detected in : 100.0% times\n",
      "--------------------\n",
      "B-true detected in : 99.9% times\n",
      "--------------------\n",
      "C-true detected in : 99.9% times\n",
      "--------------------\n"
     ]
    }
   ],
   "source": [
    "chars = ['A', 'B', 'C']\n",
    "\n",
    "accs = defaultdict(list)\n",
    "for _ in range(1000):\n",
    "    hebbian = Hebbian(missing=0.4)\n",
    "    hebbian.fit(inputs, targets)\n",
    "    outputs = hebbian.transform(inputs)\n",
    "\n",
    "    for char, (output, target) in enumerate(zip(outputs, targets)):\n",
    "        output = output.reshape(output.shape[1], -1)\n",
    "        target = target.reshape(target.shape[0], -1)\n",
    "        acc = sum([1 if output[i] == target[i] else 0 for i in range(len(output))]) / len(output)\n",
    "        accs[chars[char]].append(acc)\n",
    "\n",
    "for i in range(len(chars)):\n",
    "    print(f\"{chars[i]}-true detected in : {(np.sum(np.where(np.array(accs[chars[i]]) == 1, 1, 0)) / float(len(accs[chars[i]])))*100}% times\")\n",
    "    print('-' * 20)"
   ]
  },
  {
   "cell_type": "code",
   "execution_count": 78,
   "metadata": {},
   "outputs": [
    {
     "name": "stdout",
     "output_type": "stream",
     "text": [
      "A-true detected in : 100.0% times\n",
      "--------------------\n",
      "B-true detected in : 100.0% times\n",
      "--------------------\n",
      "C-true detected in : 100.0% times\n",
      "--------------------\n"
     ]
    }
   ],
   "source": [
    "chars = ['A', 'B', 'C']\n",
    "\n",
    "accs = defaultdict(list)\n",
    "for _ in range(1000):\n",
    "    hebbian = Hebbian(missing=0.1)\n",
    "    hebbian.fit(inputs, smallest_targets)\n",
    "    outputs = hebbian.transform(inputs)\n",
    "\n",
    "    for char, (output, target) in enumerate(zip(outputs, smallest_targets)):\n",
    "        output = output.reshape(output.shape[1], -1)\n",
    "        target = target.reshape(target.shape[0], -1)\n",
    "        acc = sum([1 if output[i] == target[i] else 0 for i in range(len(output))]) / len(output)\n",
    "        accs[chars[char]].append(acc)\n",
    "\n",
    "for i in range(len(chars)):\n",
    "    print(f\"{chars[i]}-true detected in : {(np.sum(np.where(np.array(accs[chars[i]]) == 1, 1, 0)) / float(len(accs[chars[i]])))*100}% times\")\n",
    "    print('-' * 20)"
   ]
  },
  {
   "cell_type": "code",
   "execution_count": 82,
   "metadata": {},
   "outputs": [
    {
     "name": "stdout",
     "output_type": "stream",
     "text": [
      "A-true detected in : 100.0% times\n",
      "--------------------\n",
      "B-true detected in : 99.9% times\n",
      "--------------------\n",
      "C-true detected in : 99.9% times\n",
      "--------------------\n"
     ]
    }
   ],
   "source": [
    "chars = ['A', 'B', 'C']\n",
    "\n",
    "accs = defaultdict(list)\n",
    "for _ in range(1000):\n",
    "    hebbian = Hebbian(missing=0.4)\n",
    "    hebbian.fit(inputs, smallest_targets)\n",
    "    outputs = hebbian.transform(inputs)\n",
    "\n",
    "    for char, (output, target) in enumerate(zip(outputs, smallest_targets)):\n",
    "        output = output.reshape(output.shape[1], -1)\n",
    "        target = target.reshape(target.shape[0], -1)\n",
    "        acc = sum([1 if output[i] == target[i] else 0 for i in range(len(output))]) / len(output)\n",
    "        accs[chars[char]].append(acc)\n",
    "\n",
    "for i in range(len(chars)):\n",
    "    print(f\"{chars[i]}-true detected in : {(np.sum(np.where(np.array(accs[chars[i]]) == 1, 1, 0)) / float(len(accs[chars[i]])))*100}% times\")\n",
    "    print('-' * 20)"
   ]
  }
 ],
 "metadata": {
  "interpreter": {
   "hash": "6089f03deae56583c44f7b551b954566ae74e81fd90f47382c1019c1f789891b"
  },
  "kernelspec": {
   "display_name": "Python 3.6.9 64-bit ('env': venv)",
   "language": "python",
   "name": "python3"
  },
  "language_info": {
   "codemirror_mode": {
    "name": "ipython",
    "version": 3
   },
   "file_extension": ".py",
   "mimetype": "text/x-python",
   "name": "python",
   "nbconvert_exporter": "python",
   "pygments_lexer": "ipython3",
   "version": "3.6.9"
  },
  "orig_nbformat": 4
 },
 "nbformat": 4,
 "nbformat_minor": 2
}
